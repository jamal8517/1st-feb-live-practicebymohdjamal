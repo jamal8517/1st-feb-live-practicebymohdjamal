{
 "cells": [
  {
   "cell_type": "code",
   "execution_count": 1,
   "id": "f109ac05-8f1f-4cfc-ba20-ffed84d4fb30",
   "metadata": {},
   "outputs": [],
   "source": [
    "d = {}"
   ]
  },
  {
   "cell_type": "code",
   "execution_count": 2,
   "id": "7edbf7e7-0fd2-413d-8ee0-9aa7eaf7fccb",
   "metadata": {},
   "outputs": [
    {
     "data": {
      "text/plain": [
       "dict"
      ]
     },
     "execution_count": 2,
     "metadata": {},
     "output_type": "execute_result"
    }
   ],
   "source": [
    "type(d)"
   ]
  },
  {
   "cell_type": "code",
   "execution_count": 3,
   "id": "250855b8-c72d-442f-82ed-e2b97c7f300b",
   "metadata": {},
   "outputs": [],
   "source": [
    "d1 = {\"key\" : \"sudh\"}"
   ]
  },
  {
   "cell_type": "code",
   "execution_count": 4,
   "id": "46647d7f-1e3e-4202-b914-f1386e902ff0",
   "metadata": {},
   "outputs": [
    {
     "data": {
      "text/plain": [
       "{'key': 'sudh'}"
      ]
     },
     "execution_count": 4,
     "metadata": {},
     "output_type": "execute_result"
    }
   ],
   "source": [
    "d1"
   ]
  },
  {
   "cell_type": "code",
   "execution_count": 6,
   "id": "eaf8bc1a-8908-4f73-a708-3e05f43f6b96",
   "metadata": {},
   "outputs": [],
   "source": [
    "d2 = {\"name\": \"sudhanshu\",\"email\":\"mohdjamal8416@gmail.com\",\"number\" : 334534}"
   ]
  },
  {
   "cell_type": "code",
   "execution_count": 7,
   "id": "31623ad2-0914-4039-9869-72f208e0c625",
   "metadata": {},
   "outputs": [
    {
     "data": {
      "text/plain": [
       "{'name': 'sudhanshu', 'email': 'mohdjamal8416@gmail.com', 'number': 334534}"
      ]
     },
     "execution_count": 7,
     "metadata": {},
     "output_type": "execute_result"
    }
   ],
   "source": [
    "d2"
   ]
  },
  {
   "cell_type": "code",
   "execution_count": 8,
   "id": "6829fe85-f95b-4924-8c57-a631d9203604",
   "metadata": {},
   "outputs": [],
   "source": [
    "d3 = {234 : \"sudh\" , \"_wer\" : \"kumar\",True : 243442}"
   ]
  },
  {
   "cell_type": "code",
   "execution_count": 9,
   "id": "4a05d59c-8850-4285-956f-310fba2d80f6",
   "metadata": {},
   "outputs": [
    {
     "data": {
      "text/plain": [
       "{234: 'sudh', '_wer': 'kumar', True: 243442}"
      ]
     },
     "execution_count": 9,
     "metadata": {},
     "output_type": "execute_result"
    }
   ],
   "source": [
    "d3"
   ]
  },
  {
   "cell_type": "code",
   "execution_count": 10,
   "id": "337a9e8c-a086-4ab2-8029-08c89236f4c5",
   "metadata": {},
   "outputs": [
    {
     "data": {
      "text/plain": [
       "'sudh'"
      ]
     },
     "execution_count": 10,
     "metadata": {},
     "output_type": "execute_result"
    }
   ],
   "source": [
    "d3[234]"
   ]
  },
  {
   "cell_type": "code",
   "execution_count": 11,
   "id": "1e204fa3-a6cc-4416-9dc8-ad55e2fd78e7",
   "metadata": {},
   "outputs": [
    {
     "data": {
      "text/plain": [
       "'kumar'"
      ]
     },
     "execution_count": 11,
     "metadata": {},
     "output_type": "execute_result"
    }
   ],
   "source": [
    "d3[\"_wer\"]"
   ]
  },
  {
   "cell_type": "code",
   "execution_count": 12,
   "id": "7bd70f4b-71c2-4173-8180-569a01b40c62",
   "metadata": {},
   "outputs": [
    {
     "data": {
      "text/plain": [
       "243442"
      ]
     },
     "execution_count": 12,
     "metadata": {},
     "output_type": "execute_result"
    }
   ],
   "source": [
    "d3[True]"
   ]
  },
  {
   "cell_type": "code",
   "execution_count": 13,
   "id": "ed650866-8642-4cf8-a5e5-7af98f298572",
   "metadata": {},
   "outputs": [
    {
     "data": {
      "text/plain": [
       "243442"
      ]
     },
     "execution_count": 13,
     "metadata": {},
     "output_type": "execute_result"
    }
   ],
   "source": [
    "d3[1]"
   ]
  },
  {
   "cell_type": "code",
   "execution_count": 14,
   "id": "7a69c187-ee43-473e-949a-82b195ed5474",
   "metadata": {},
   "outputs": [],
   "source": [
    "d4 = {\"name\" : \"sudh\",\"email_id\" : \"mohdjamal8416@gmail.com\",\"name\" : \"sudhanshu\"}"
   ]
  },
  {
   "cell_type": "code",
   "execution_count": 15,
   "id": "052d0cf6-5737-4d25-8534-d6812c83e410",
   "metadata": {},
   "outputs": [
    {
     "data": {
      "text/plain": [
       "{'name': 'sudhanshu', 'email_id': 'mohdjamal8416@gmail.com'}"
      ]
     },
     "execution_count": 15,
     "metadata": {},
     "output_type": "execute_result"
    }
   ],
   "source": [
    "d4"
   ]
  },
  {
   "cell_type": "code",
   "execution_count": 16,
   "id": "f3543b99-3603-4c50-8128-801c74479e4c",
   "metadata": {},
   "outputs": [
    {
     "data": {
      "text/plain": [
       "'sudhanshu'"
      ]
     },
     "execution_count": 16,
     "metadata": {},
     "output_type": "execute_result"
    }
   ],
   "source": [
    "d4[\"name\"]"
   ]
  },
  {
   "cell_type": "code",
   "execution_count": 17,
   "id": "279938ae-5819-4458-a233-e0399d0fee8a",
   "metadata": {},
   "outputs": [
    {
     "data": {
      "text/plain": [
       "'mohdjamal8416@gmail.com'"
      ]
     },
     "execution_count": 17,
     "metadata": {},
     "output_type": "execute_result"
    }
   ],
   "source": [
    "d4[\"email_id\"]"
   ]
  },
  {
   "cell_type": "code",
   "execution_count": 19,
   "id": "b1d26fcc-e0a8-4e81-81a4-4aec8944402e",
   "metadata": {},
   "outputs": [],
   "source": [
    "d5 = {\"company\" : \"pwskills\",\"course\" : [\"web dev\",\"data science\",\"java with dsa system design\"]}"
   ]
  },
  {
   "cell_type": "code",
   "execution_count": 20,
   "id": "b8cd1e3f-0317-47ba-bf42-2eef59044acc",
   "metadata": {},
   "outputs": [
    {
     "data": {
      "text/plain": [
       "{'company': 'pwskills',\n",
       " 'course': ['web dev', 'data science', 'java with dsa system design']}"
      ]
     },
     "execution_count": 20,
     "metadata": {},
     "output_type": "execute_result"
    }
   ],
   "source": [
    "d5"
   ]
  },
  {
   "cell_type": "code",
   "execution_count": 21,
   "id": "a6770c81-a771-40f1-a841-f9e2d3185cce",
   "metadata": {},
   "outputs": [
    {
     "data": {
      "text/plain": [
       "['web dev', 'data science', 'java with dsa system design']"
      ]
     },
     "execution_count": 21,
     "metadata": {},
     "output_type": "execute_result"
    }
   ],
   "source": [
    "d5[\"course\"]"
   ]
  },
  {
   "cell_type": "code",
   "execution_count": 22,
   "id": "cd185b03-6211-459c-ab39-5113245cbb3b",
   "metadata": {},
   "outputs": [
    {
     "data": {
      "text/plain": [
       "'data science'"
      ]
     },
     "execution_count": 22,
     "metadata": {},
     "output_type": "execute_result"
    }
   ],
   "source": [
    "d5[\"course\"][1]"
   ]
  },
  {
   "cell_type": "code",
   "execution_count": 23,
   "id": "b28f3f02-bb09-46d8-a98e-e3684a2b17df",
   "metadata": {},
   "outputs": [
    {
     "data": {
      "text/plain": [
       "'java with dsa system design'"
      ]
     },
     "execution_count": 23,
     "metadata": {},
     "output_type": "execute_result"
    }
   ],
   "source": [
    "d5[\"course\"][2]"
   ]
  },
  {
   "cell_type": "code",
   "execution_count": 24,
   "id": "ef8f1d3a-30bd-4891-9375-2482af6a400a",
   "metadata": {},
   "outputs": [
    {
     "data": {
      "text/plain": [
       "'web dev'"
      ]
     },
     "execution_count": 24,
     "metadata": {},
     "output_type": "execute_result"
    }
   ],
   "source": [
    "d5[\"course\"][0]"
   ]
  },
  {
   "cell_type": "code",
   "execution_count": 23,
   "id": "5c5e712a-175b-4d0e-8121-b254037b5319",
   "metadata": {},
   "outputs": [],
   "source": [
    "d6 = {\"number\" : [2,34,3,34],\"assignment\" : (1,2,3,4,5,6), \"launch_date\" : {28,12,14},\"class_time\" :{\"web_dev\": 8,\"data science master \" : 8 , \"java with dsa system design\": 7}}"
   ]
  },
  {
   "cell_type": "code",
   "execution_count": 24,
   "id": "41ff3a61-fafb-4ef3-9ce7-69e2890a0430",
   "metadata": {},
   "outputs": [
    {
     "data": {
      "text/plain": [
       "{'number': [2, 34, 3, 34],\n",
       " 'assignment': (1, 2, 3, 4, 5, 6),\n",
       " 'launch_date': {12, 14, 28},\n",
       " 'class_time': {'web_dev': 8,\n",
       "  'data science master ': 8,\n",
       "  'java with dsa system design': 7}}"
      ]
     },
     "execution_count": 24,
     "metadata": {},
     "output_type": "execute_result"
    }
   ],
   "source": [
    "d6"
   ]
  },
  {
   "cell_type": "code",
   "execution_count": 25,
   "id": "e6597af6-74dc-49dd-a8e7-d4d19916c3de",
   "metadata": {},
   "outputs": [
    {
     "data": {
      "text/plain": [
       "[2, 34, 3, 34]"
      ]
     },
     "execution_count": 25,
     "metadata": {},
     "output_type": "execute_result"
    }
   ],
   "source": [
    "d6[\"number\"]"
   ]
  },
  {
   "cell_type": "code",
   "execution_count": 26,
   "id": "d691be78-e0c3-47da-a2cc-b5e69ca9b9a4",
   "metadata": {},
   "outputs": [
    {
     "data": {
      "text/plain": [
       "(1, 2, 3, 4, 5, 6)"
      ]
     },
     "execution_count": 26,
     "metadata": {},
     "output_type": "execute_result"
    }
   ],
   "source": [
    "d6[\"assignment\"]"
   ]
  },
  {
   "cell_type": "code",
   "execution_count": 27,
   "id": "2c96ae03-a585-40ef-ba20-80d371c3ef4a",
   "metadata": {},
   "outputs": [
    {
     "data": {
      "text/plain": [
       "{12, 14, 28}"
      ]
     },
     "execution_count": 27,
     "metadata": {},
     "output_type": "execute_result"
    }
   ],
   "source": [
    "d6[\"launch_date\"]"
   ]
  },
  {
   "cell_type": "code",
   "execution_count": 28,
   "id": "38d0226c-0c7b-4d27-abc5-67743e690735",
   "metadata": {},
   "outputs": [
    {
     "data": {
      "text/plain": [
       "{'web_dev': 8, 'data science master ': 8, 'java with dsa system design': 7}"
      ]
     },
     "execution_count": 28,
     "metadata": {},
     "output_type": "execute_result"
    }
   ],
   "source": [
    "d6[\"class_time\"]"
   ]
  },
  {
   "cell_type": "code",
   "execution_count": 29,
   "id": "2d21bc72-cebe-4162-a2e7-58e08d91eabb",
   "metadata": {},
   "outputs": [
    {
     "data": {
      "text/plain": [
       "8"
      ]
     },
     "execution_count": 29,
     "metadata": {},
     "output_type": "execute_result"
    }
   ],
   "source": [
    "d6[\"class_time\"][\"web_dev\"]"
   ]
  },
  {
   "cell_type": "code",
   "execution_count": 30,
   "id": "fa4c4fa2-1565-4c1e-bff5-80482ce24183",
   "metadata": {},
   "outputs": [
    {
     "data": {
      "text/plain": [
       "{'web_dev': 8, 'data science master ': 8, 'java with dsa system design': 7}"
      ]
     },
     "execution_count": 30,
     "metadata": {},
     "output_type": "execute_result"
    }
   ],
   "source": [
    "d6[\"class_time\"]"
   ]
  },
  {
   "cell_type": "code",
   "execution_count": 31,
   "id": "d731a65d-e8dd-4d66-be5b-a0938dbaba9b",
   "metadata": {},
   "outputs": [
    {
     "data": {
      "text/plain": [
       "7"
      ]
     },
     "execution_count": 31,
     "metadata": {},
     "output_type": "execute_result"
    }
   ],
   "source": [
    "d6[\"class_time\"][\"java with dsa system design\"]"
   ]
  },
  {
   "cell_type": "code",
   "execution_count": 32,
   "id": "5459db76-451e-4a89-9e0d-5f6f2cda1c3f",
   "metadata": {},
   "outputs": [
    {
     "ename": "KeyError",
     "evalue": "'data science master'",
     "output_type": "error",
     "traceback": [
      "\u001b[0;31m---------------------------------------------------------------------------\u001b[0m",
      "\u001b[0;31mKeyError\u001b[0m                                  Traceback (most recent call last)",
      "Cell \u001b[0;32mIn[32], line 1\u001b[0m\n\u001b[0;32m----> 1\u001b[0m \u001b[43md6\u001b[49m\u001b[43m[\u001b[49m\u001b[38;5;124;43m\"\u001b[39;49m\u001b[38;5;124;43mclass_time\u001b[39;49m\u001b[38;5;124;43m\"\u001b[39;49m\u001b[43m]\u001b[49m\u001b[43m[\u001b[49m\u001b[38;5;124;43m\"\u001b[39;49m\u001b[38;5;124;43mdata science master\u001b[39;49m\u001b[38;5;124;43m\"\u001b[39;49m\u001b[43m]\u001b[49m\n\u001b[1;32m      2\u001b[0m d6[\u001b[38;5;124m'\u001b[39m\u001b[38;5;124mmentor\u001b[39m\u001b[38;5;124m'\u001b[39m] \u001b[38;5;241m=\u001b[39m [\u001b[38;5;124m\"\u001b[39m\u001b[38;5;124msudhanshu\u001b[39m\u001b[38;5;124m\"\u001b[39m,\u001b[38;5;124m\"\u001b[39m\u001b[38;5;124mkrish\u001b[39m\u001b[38;5;124m\"\u001b[39m,\u001b[38;5;124m\"\u001b[39m\u001b[38;5;124manurag\u001b[39m\u001b[38;5;124m\"\u001b[39m , \u001b[38;5;124m\"\u001b[39m\u001b[38;5;124mhayder\u001b[39m\u001b[38;5;124m\"\u001b[39m]\n",
      "\u001b[0;31mKeyError\u001b[0m: 'data science master'"
     ]
    }
   ],
   "source": [
    "d6[\"class_time\"][\"data science master\"]\n",
    "d6['mentor'] = [\"sudhanshu\",\"krish\",\"anurag\" , \"hayder\"]"
   ]
  },
  {
   "cell_type": "code",
   "execution_count": 33,
   "id": "c2dad9b1-5344-4adc-874f-f7422eda3482",
   "metadata": {},
   "outputs": [],
   "source": [
    "d6[\"mentor\"] = [\"sudhanshu\",\"krish\",\"anurag\",\"hayder\"]"
   ]
  },
  {
   "cell_type": "code",
   "execution_count": 34,
   "id": "e2a36841-f407-4f41-ba7a-56204965a749",
   "metadata": {},
   "outputs": [
    {
     "data": {
      "text/plain": [
       "{'number': [2, 34, 3, 34],\n",
       " 'assignment': (1, 2, 3, 4, 5, 6),\n",
       " 'launch_date': {12, 14, 28},\n",
       " 'class_time': {'web_dev': 8,\n",
       "  'data science master ': 8,\n",
       "  'java with dsa system design': 7},\n",
       " 'mentor': ['sudhanshu', 'krish', 'anurag', 'hayder']}"
      ]
     },
     "execution_count": 34,
     "metadata": {},
     "output_type": "execute_result"
    }
   ],
   "source": [
    "d6"
   ]
  },
  {
   "cell_type": "code",
   "execution_count": 35,
   "id": "7ad3529a-964f-473c-9bba-8c0b283217f0",
   "metadata": {},
   "outputs": [
    {
     "ename": "KeyError",
     "evalue": "'mentor'",
     "output_type": "error",
     "traceback": [
      "\u001b[0;31m---------------------------------------------------------------------------\u001b[0m",
      "\u001b[0;31mKeyError\u001b[0m                                  Traceback (most recent call last)",
      "Cell \u001b[0;32mIn[35], line 1\u001b[0m\n\u001b[0;32m----> 1\u001b[0m \u001b[43md6\u001b[49m\u001b[43m[\u001b[49m\u001b[38;5;124;43m\"\u001b[39;49m\u001b[38;5;124;43mclass_time\u001b[39;49m\u001b[38;5;124;43m\"\u001b[39;49m\u001b[43m]\u001b[49m\u001b[43m[\u001b[49m\u001b[38;5;124;43m\"\u001b[39;49m\u001b[38;5;124;43mmentor\u001b[39;49m\u001b[38;5;124;43m\"\u001b[39;49m\u001b[43m]\u001b[49m\n",
      "\u001b[0;31mKeyError\u001b[0m: 'mentor'"
     ]
    }
   ],
   "source": [
    "d6[\"class_time\"][\"mentor\"]"
   ]
  },
  {
   "cell_type": "code",
   "execution_count": 36,
   "id": "034b6a01-9e88-47f6-b1f9-06b2341f9a7b",
   "metadata": {},
   "outputs": [
    {
     "name": "stdout",
     "output_type": "stream",
     "text": [
      "Either 'class_time' key or 'mentor' key is missing in the dictionary.\n"
     ]
    }
   ],
   "source": [
    "if 'class_time' in d6 and 'mentor' in d6['class_time']:\n",
    "    mentor = d6['class_time']['mentor']\n",
    "    print(mentor)\n",
    "else:\n",
    "    print(\"Either 'class_time' key or 'mentor' key is missing in the dictionary.\")\n",
    "    "
   ]
  },
  {
   "cell_type": "code",
   "execution_count": 40,
   "id": "50305c4d-1387-4bdc-9cba-c894357a4912",
   "metadata": {},
   "outputs": [
    {
     "ename": "SyntaxError",
     "evalue": "incomplete input (4281648774.py, line 1)",
     "output_type": "error",
     "traceback": [
      "\u001b[0;36m  Cell \u001b[0;32mIn[40], line 1\u001b[0;36m\u001b[0m\n\u001b[0;31m    if \"class_time\"in d6:\u001b[0m\n\u001b[0m                         ^\u001b[0m\n\u001b[0;31mSyntaxError\u001b[0m\u001b[0;31m:\u001b[0m incomplete input\n"
     ]
    }
   ],
   "source": [
    "if \"class_time\"in d6:"
   ]
  },
  {
   "cell_type": "code",
   "execution_count": 41,
   "id": "99ff6e49-43c3-4a02-9ae8-3f63de45ed2d",
   "metadata": {},
   "outputs": [
    {
     "data": {
      "text/plain": [
       "{'number': [2, 34, 3, 34],\n",
       " 'assignment': (1, 2, 3, 4, 5, 6),\n",
       " 'launch_date': {12, 14, 28},\n",
       " 'class_time': {'web_dev': 8,\n",
       "  'data science master ': 8,\n",
       "  'java with dsa system design': 7},\n",
       " 'mentor': ['sudhanshu', 'krish', 'anurag', 'hayder']}"
      ]
     },
     "execution_count": 41,
     "metadata": {},
     "output_type": "execute_result"
    }
   ],
   "source": [
    "d6"
   ]
  },
  {
   "cell_type": "code",
   "execution_count": 42,
   "id": "8de70f19-2ac4-476a-bcb7-16a523f69410",
   "metadata": {},
   "outputs": [],
   "source": [
    "del d6[\"number\"]"
   ]
  },
  {
   "cell_type": "code",
   "execution_count": 43,
   "id": "e5f86a40-acbd-40ae-8e21-c94951211aa1",
   "metadata": {},
   "outputs": [
    {
     "data": {
      "text/plain": [
       "{'assignment': (1, 2, 3, 4, 5, 6),\n",
       " 'launch_date': {12, 14, 28},\n",
       " 'class_time': {'web_dev': 8,\n",
       "  'data science master ': 8,\n",
       "  'java with dsa system design': 7},\n",
       " 'mentor': ['sudhanshu', 'krish', 'anurag', 'hayder']}"
      ]
     },
     "execution_count": 43,
     "metadata": {},
     "output_type": "execute_result"
    }
   ],
   "source": [
    "d6"
   ]
  },
  {
   "cell_type": "code",
   "execution_count": 44,
   "id": "71b1016a-4881-4b7e-8d4f-038c99b4cb58",
   "metadata": {},
   "outputs": [
    {
     "data": {
      "text/plain": [
       "['assignment', 'launch_date', 'class_time', 'mentor']"
      ]
     },
     "execution_count": 44,
     "metadata": {},
     "output_type": "execute_result"
    }
   ],
   "source": [
    "list(d6.keys())"
   ]
  },
  {
   "cell_type": "code",
   "execution_count": 46,
   "id": "45e934bb-4b4d-44fa-9de3-d54d6e4e4a37",
   "metadata": {},
   "outputs": [
    {
     "data": {
      "text/plain": [
       "[(1, 2, 3, 4, 5, 6),\n",
       " {12, 14, 28},\n",
       " {'web_dev': 8, 'data science master ': 8, 'java with dsa system design': 7},\n",
       " ['sudhanshu', 'krish', 'anurag', 'hayder']]"
      ]
     },
     "execution_count": 46,
     "metadata": {},
     "output_type": "execute_result"
    }
   ],
   "source": [
    "list(d6.values())"
   ]
  },
  {
   "cell_type": "code",
   "execution_count": 1,
   "id": "94c171d8-477f-4c9b-b64d-cef044bcc922",
   "metadata": {},
   "outputs": [],
   "source": [
    "d6 = {\"number\" : [2,34,3,34],\"assignment\" : (1,2,3,4,5,6), \"launch_date\" : {28,12,14},\"class_time\" :{\"web_dev\": 8,\"data science master \" : 8 , \"java with dsa system design\": 7}}"
   ]
  },
  {
   "cell_type": "code",
   "execution_count": 2,
   "id": "bd735820-3e48-41d6-8ce1-3707e5acd7bd",
   "metadata": {},
   "outputs": [
    {
     "data": {
      "text/plain": [
       "{'number': [2, 34, 3, 34],\n",
       " 'assignment': (1, 2, 3, 4, 5, 6),\n",
       " 'launch_date': {12, 14, 28},\n",
       " 'class_time': {'web_dev': 8,\n",
       "  'data science master ': 8,\n",
       "  'java with dsa system design': 7}}"
      ]
     },
     "execution_count": 2,
     "metadata": {},
     "output_type": "execute_result"
    }
   ],
   "source": [
    "d6"
   ]
  },
  {
   "cell_type": "code",
   "execution_count": 5,
   "id": "954ed35e-1846-4a13-9a6a-bc59303176c0",
   "metadata": {},
   "outputs": [
    {
     "data": {
      "text/plain": [
       "{'web_dev': 8, 'data science master ': 8, 'java with dsa system design': 7}"
      ]
     },
     "execution_count": 5,
     "metadata": {},
     "output_type": "execute_result"
    }
   ],
   "source": [
    "d6[\"class_time\"]"
   ]
  },
  {
   "cell_type": "code",
   "execution_count": 6,
   "id": "fd1f1070-9109-43c0-a825-e40fa566c195",
   "metadata": {},
   "outputs": [
    {
     "ename": "KeyError",
     "evalue": "'data science master'",
     "output_type": "error",
     "traceback": [
      "\u001b[0;31m---------------------------------------------------------------------------\u001b[0m",
      "\u001b[0;31mKeyError\u001b[0m                                  Traceback (most recent call last)",
      "Cell \u001b[0;32mIn[6], line 1\u001b[0m\n\u001b[0;32m----> 1\u001b[0m \u001b[43md6\u001b[49m\u001b[43m[\u001b[49m\u001b[38;5;124;43m\"\u001b[39;49m\u001b[38;5;124;43mclass_time\u001b[39;49m\u001b[38;5;124;43m\"\u001b[39;49m\u001b[43m]\u001b[49m\u001b[43m[\u001b[49m\u001b[38;5;124;43m\"\u001b[39;49m\u001b[38;5;124;43mdata science master\u001b[39;49m\u001b[38;5;124;43m\"\u001b[39;49m\u001b[43m]\u001b[49m\n",
      "\u001b[0;31mKeyError\u001b[0m: 'data science master'"
     ]
    }
   ],
   "source": [
    "d6[\"class_time\"][\"data science master\"]"
   ]
  },
  {
   "cell_type": "code",
   "execution_count": 9,
   "id": "734c1c55-069c-43cc-9ad3-dfefeb6db804",
   "metadata": {},
   "outputs": [
    {
     "data": {
      "text/plain": [
       "['web_dev', 'data science master ', 'java with dsa system design']"
      ]
     },
     "execution_count": 9,
     "metadata": {},
     "output_type": "execute_result"
    }
   ],
   "source": [
    "list(d6[\"class_time\"].keys())\n",
    "\n"
   ]
  },
  {
   "cell_type": "code",
   "execution_count": 10,
   "id": "6cb1adb0-a846-4c12-bc8b-b95ab7832b80",
   "metadata": {},
   "outputs": [
    {
     "data": {
      "text/plain": [
       "7"
      ]
     },
     "execution_count": 10,
     "metadata": {},
     "output_type": "execute_result"
    }
   ],
   "source": [
    "d6[\"class_time\"][\"java with dsa system design\"]"
   ]
  },
  {
   "cell_type": "code",
   "execution_count": 11,
   "id": "f41b6fce-9672-4294-b7fa-dbaa48ffbed2",
   "metadata": {},
   "outputs": [
    {
     "data": {
      "text/plain": [
       "['number', 'assignment', 'launch_date', 'class_time']"
      ]
     },
     "execution_count": 11,
     "metadata": {},
     "output_type": "execute_result"
    }
   ],
   "source": [
    "list(d6.keys())"
   ]
  },
  {
   "cell_type": "code",
   "execution_count": 13,
   "id": "22252775-41de-4c34-8440-a0606a162d54",
   "metadata": {},
   "outputs": [
    {
     "data": {
      "text/plain": [
       "[[2, 34, 3, 34],\n",
       " (1, 2, 3, 4, 5, 6),\n",
       " {12, 14, 28},\n",
       " {'web_dev': 8, 'data science master ': 8, 'java with dsa system design': 7}]"
      ]
     },
     "execution_count": 13,
     "metadata": {},
     "output_type": "execute_result"
    }
   ],
   "source": [
    "list(d6.values())"
   ]
  },
  {
   "cell_type": "code",
   "execution_count": 15,
   "id": "e229fe9e-c599-4a33-b494-7f5bc45f867b",
   "metadata": {},
   "outputs": [
    {
     "data": {
      "text/plain": [
       "[8, 8, 7]"
      ]
     },
     "execution_count": 15,
     "metadata": {},
     "output_type": "execute_result"
    }
   ],
   "source": [
    "list(d6[\"class_time\"].values())"
   ]
  },
  {
   "cell_type": "code",
   "execution_count": 16,
   "id": "8bd11a0c-6754-4f36-b808-c7aad55d9bfe",
   "metadata": {},
   "outputs": [],
   "source": [
    "d6[\"menter\"] = [\"sudhanshu\",\"krish\",\"hayder\"]"
   ]
  },
  {
   "cell_type": "code",
   "execution_count": 17,
   "id": "cee34d12-1f51-4b1c-b299-0f1b452dfdf8",
   "metadata": {},
   "outputs": [
    {
     "data": {
      "text/plain": [
       "{'number': [2, 34, 3, 34],\n",
       " 'assignment': (1, 2, 3, 4, 5, 6),\n",
       " 'launch_date': {12, 14, 28},\n",
       " 'class_time': {'web_dev': 8,\n",
       "  'data science master ': 8,\n",
       "  'java with dsa system design': 7},\n",
       " 'menter': ['sudhanshu', 'krish', 'hayder']}"
      ]
     },
     "execution_count": 17,
     "metadata": {},
     "output_type": "execute_result"
    }
   ],
   "source": [
    "d6"
   ]
  },
  {
   "cell_type": "code",
   "execution_count": 18,
   "id": "eba4fb37-f977-47b8-a85b-6be7b59ec673",
   "metadata": {},
   "outputs": [
    {
     "data": {
      "text/plain": [
       "[2, 34, 3, 34]"
      ]
     },
     "execution_count": 18,
     "metadata": {},
     "output_type": "execute_result"
    }
   ],
   "source": [
    "d6.pop(\"number\")"
   ]
  },
  {
   "cell_type": "code",
   "execution_count": 19,
   "id": "3359b5b1-523e-4960-b857-ebe129ee6f55",
   "metadata": {},
   "outputs": [
    {
     "data": {
      "text/plain": [
       "{'assignment': (1, 2, 3, 4, 5, 6),\n",
       " 'launch_date': {12, 14, 28},\n",
       " 'class_time': {'web_dev': 8,\n",
       "  'data science master ': 8,\n",
       "  'java with dsa system design': 7},\n",
       " 'menter': ['sudhanshu', 'krish', 'hayder']}"
      ]
     },
     "execution_count": 19,
     "metadata": {},
     "output_type": "execute_result"
    }
   ],
   "source": [
    "d6"
   ]
  },
  {
   "cell_type": "code",
   "execution_count": 20,
   "id": "69d0b0f1-460f-4e28-92da-18bccd2efb6b",
   "metadata": {},
   "outputs": [
    {
     "name": "stdin",
     "output_type": "stream",
     "text": [
      "enter your marks 99\n"
     ]
    },
    {
     "name": "stdout",
     "output_type": "stream",
     "text": [
      "you will be a part of A0 batch\n"
     ]
    }
   ],
   "source": [
    "marks = int(input(\"enter your marks\"))\n",
    "if marks >= 80:\n",
    "    print(\"you will be a part of A0 batch\")\n",
    "elif marks >= 60 and marks < 80:\n",
    "    print(\"you will be a part of A1 batch\")\n",
    "elif marks >= 40 and marks < 60:\n",
    "    print(\"you will be a part of A2 batch\")\n",
    "else:\n",
    "    print(\"you will be a part of A3 batch\")\n"
   ]
  },
  {
   "cell_type": "code",
   "execution_count": 21,
   "id": "fa0e8093-a982-4df2-b378-db611234c442",
   "metadata": {},
   "outputs": [
    {
     "data": {
      "text/plain": [
       "False"
      ]
     },
     "execution_count": 21,
     "metadata": {},
     "output_type": "execute_result"
    }
   ],
   "source": [
    "10>=80"
   ]
  },
  {
   "cell_type": "code",
   "execution_count": 1,
   "id": "dd8960bc-141e-4d85-bde8-b15136ed8548",
   "metadata": {},
   "outputs": [
    {
     "name": "stdin",
     "output_type": "stream",
     "text": [
      "enter your number 15\n"
     ]
    }
   ],
   "source": [
    "marks = int(input(\"enter your number\"))"
   ]
  },
  {
   "cell_type": "code",
   "execution_count": 2,
   "id": "8caef8b1-045d-4932-bf83-3f8c4466c696",
   "metadata": {},
   "outputs": [
    {
     "data": {
      "text/plain": [
       "15"
      ]
     },
     "execution_count": 2,
     "metadata": {},
     "output_type": "execute_result"
    }
   ],
   "source": [
    "marks"
   ]
  },
  {
   "cell_type": "code",
   "execution_count": 3,
   "id": "c2597e14-30cd-47e4-92f2-4904c47b0b49",
   "metadata": {},
   "outputs": [
    {
     "data": {
      "text/plain": [
       "int"
      ]
     },
     "execution_count": 3,
     "metadata": {},
     "output_type": "execute_result"
    }
   ],
   "source": [
    "type(marks)\n"
   ]
  },
  {
   "cell_type": "code",
   "execution_count": 4,
   "id": "bc3b22bf-356a-4e73-9399-e3b453fa6301",
   "metadata": {},
   "outputs": [
    {
     "name": "stdin",
     "output_type": "stream",
     "text": [
      "enter your price 500\n"
     ]
    },
    {
     "name": "stdout",
     "output_type": "stream",
     "text": [
      " i will  purchase\n"
     ]
    }
   ],
   "source": [
    "price = int(input(\"enter your price\"))\n",
    "if price > 1000:\n",
    "    print(\" i will not purchase\")\n",
    "else : \n",
    "    print(\" i will  purchase\")\n",
    "    \n",
    "      \n",
    "    \n",
    " "
   ]
  },
  {
   "cell_type": "code",
   "execution_count": 6,
   "id": "ec76a71d-c789-4beb-b30d-7777555d210c",
   "metadata": {},
   "outputs": [
    {
     "name": "stdin",
     "output_type": "stream",
     "text": [
      "what is your budget 500\n"
     ]
    },
    {
     "name": "stdout",
     "output_type": "stream",
     "text": [
      "i will purchase\n"
     ]
    }
   ],
   "source": [
    "price = int(input(\"what is your budget\"))\n",
    "if price > 1000:\n",
    "    print(\"i will not purchase\")\n",
    "    if price > 5000:\n",
    "        print(\"this is too much\")\n",
    "    elif price < 2000:\n",
    "            print(\"its ok\")\n",
    "elif price < 1000 or price > 500:\n",
    "    print(\"i will purchase\")\n",
    "else: \n",
    "    print(\"not intrested\")\n",
    "    \n",
    " "
   ]
  },
  {
   "cell_type": "code",
   "execution_count": 8,
   "id": "663976b9-fd3c-48d0-8d6c-03cc253d9205",
   "metadata": {},
   "outputs": [],
   "source": [
    "l = [1,2,3,4,5,6,7,8,]"
   ]
  },
  {
   "cell_type": "code",
   "execution_count": 9,
   "id": "989288c4-0e05-4ae4-8c02-c41f2f25cf1d",
   "metadata": {},
   "outputs": [
    {
     "data": {
      "text/plain": [
       "2"
      ]
     },
     "execution_count": 9,
     "metadata": {},
     "output_type": "execute_result"
    }
   ],
   "source": [
    "l[0] + 1"
   ]
  },
  {
   "cell_type": "code",
   "execution_count": 10,
   "id": "ebffdede-e1f4-4514-a9d2-ed1f90cfa06d",
   "metadata": {},
   "outputs": [],
   "source": [
    "l1 = []"
   ]
  },
  {
   "cell_type": "code",
   "execution_count": 11,
   "id": "27a81a47-ddb3-4ab1-9fa4-1f993fa771b8",
   "metadata": {},
   "outputs": [],
   "source": [
    "l1.append(l[0] + 1)"
   ]
  },
  {
   "cell_type": "code",
   "execution_count": 12,
   "id": "f01b119c-8705-44da-89e9-9620360e520c",
   "metadata": {},
   "outputs": [
    {
     "data": {
      "text/plain": [
       "[2]"
      ]
     },
     "execution_count": 12,
     "metadata": {},
     "output_type": "execute_result"
    }
   ],
   "source": [
    "l1\n",
    "l1 = []\n",
    "for i in l :\n",
    "    l1.append(i+1)\n",
    "    print(i+1)\n",
    "l1"
   ]
  },
  {
   "cell_type": "code",
   "execution_count": 13,
   "id": "5322013c-a6f8-40ed-9c37-55514ab8e972",
   "metadata": {},
   "outputs": [],
   "source": [
    "l = [1,2,3,4,5,6,7,8,]"
   ]
  },
  {
   "cell_type": "code",
   "execution_count": 15,
   "id": "3dd035b0-6f24-4f4a-91d5-a18729363c3f",
   "metadata": {},
   "outputs": [
    {
     "name": "stdout",
     "output_type": "stream",
     "text": [
      "2\n",
      "3\n",
      "4\n",
      "5\n",
      "6\n",
      "7\n",
      "8\n",
      "9\n"
     ]
    },
    {
     "data": {
      "text/plain": [
       "[2, 3, 4, 5, 6, 7, 8, 9]"
      ]
     },
     "execution_count": 15,
     "metadata": {},
     "output_type": "execute_result"
    }
   ],
   "source": [
    "l1 = []\n",
    "for i in l :\n",
    "    l1.append(i+1)\n",
    "    print(i+1)\n",
    "l1"
   ]
  },
  {
   "cell_type": "code",
   "execution_count": 16,
   "id": "7f1911d5-b30f-489a-af26-1c266ef738f2",
   "metadata": {},
   "outputs": [
    {
     "data": {
      "text/plain": [
       "[1, 2, 3, 4, 5, 6, 7, 8]"
      ]
     },
     "execution_count": 16,
     "metadata": {},
     "output_type": "execute_result"
    }
   ],
   "source": [
    "l"
   ]
  },
  {
   "cell_type": "code",
   "execution_count": 17,
   "id": "fd1cf501-3b6d-407c-805f-6af0e30cf583",
   "metadata": {},
   "outputs": [],
   "source": [
    "l = [\"sudh\" ,\"kumar\", \"pwskills\",\"course\"]"
   ]
  },
  {
   "cell_type": "code",
   "execution_count": 18,
   "id": "3e15aeb3-b2f8-4892-a951-89a44b78f955",
   "metadata": {},
   "outputs": [
    {
     "data": {
      "text/plain": [
       "['sudh', 'kumar', 'pwskills', 'course']"
      ]
     },
     "execution_count": 18,
     "metadata": {},
     "output_type": "execute_result"
    }
   ],
   "source": [
    "l\n"
   ]
  },
  {
   "cell_type": "code",
   "execution_count": 20,
   "id": "1fa879ac-e11f-4c9b-9f8a-0103bb14cf27",
   "metadata": {},
   "outputs": [
    {
     "data": {
      "text/plain": [
       "['SUDH', 'KUMAR', 'PWSKILLS', 'COURSE']"
      ]
     },
     "execution_count": 20,
     "metadata": {},
     "output_type": "execute_result"
    }
   ],
   "source": [
    "l1\n"
   ]
  },
  {
   "cell_type": "code",
   "execution_count": null,
   "id": "7d559cc3-3702-46d8-ab9a-5ffee858d384",
   "metadata": {},
   "outputs": [],
   "source": []
  },
  {
   "cell_type": "code",
   "execution_count": null,
   "id": "f3f16b54-5cad-4a21-9c0c-1e7f4f4af383",
   "metadata": {},
   "outputs": [],
   "source": []
  },
  {
   "cell_type": "code",
   "execution_count": null,
   "id": "ee76adac-a15c-4d86-a3fb-9c45cceaf7ca",
   "metadata": {},
   "outputs": [],
   "source": []
  },
  {
   "cell_type": "code",
   "execution_count": 19,
   "id": "1ded7d1f-5e7c-4000-ad36-02806016d289",
   "metadata": {},
   "outputs": [
    {
     "name": "stdout",
     "output_type": "stream",
     "text": [
      "sudh\n",
      "kumar\n",
      "pwskills\n",
      "course\n"
     ]
    }
   ],
   "source": [
    "l1 = []\n",
    "for i in l :\n",
    "    print(i)\n",
    "    l1.append(i.upper())\n",
    "    "
   ]
  },
  {
   "cell_type": "code",
   "execution_count": 1,
   "id": "7ca9f25d-62da-4837-acfd-bc564f4d4278",
   "metadata": {},
   "outputs": [],
   "source": [
    "l = [1,2,3,4,4,\"sudh\" , \"kmumar\" , 324,34.456,\"abc\"]"
   ]
  },
  {
   "cell_type": "code",
   "execution_count": 2,
   "id": "73ef5991-0b66-47d3-b774-45794b5234f3",
   "metadata": {},
   "outputs": [],
   "source": [
    "l1_num = []\n",
    "l2_str = []\n",
    "for i in l :\n",
    "    if type(i) == int or type(i) == float :\n",
    "        l1_num.append(i)\n",
    "    else :\n",
    "        l2_str.append(i)\n",
    "    \n"
   ]
  },
  {
   "cell_type": "code",
   "execution_count": 3,
   "id": "2e66cdeb-a2a8-4a74-9ff7-eaf23fa3ed2a",
   "metadata": {},
   "outputs": [
    {
     "data": {
      "text/plain": [
       "[1, 2, 3, 4, 4, 324, 34.456]"
      ]
     },
     "execution_count": 3,
     "metadata": {},
     "output_type": "execute_result"
    }
   ],
   "source": [
    "l1_num"
   ]
  },
  {
   "cell_type": "code",
   "execution_count": 4,
   "id": "66a8fb27-5095-4d4b-af64-bb2c79550751",
   "metadata": {},
   "outputs": [
    {
     "data": {
      "text/plain": [
       "['sudh', 'kmumar', 'abc']"
      ]
     },
     "execution_count": 4,
     "metadata": {},
     "output_type": "execute_result"
    }
   ],
   "source": [
    "l2_str"
   ]
  },
  {
   "cell_type": "code",
   "execution_count": null,
   "id": "08944465-e654-4bb1-b2f5-2eaa0ada1e64",
   "metadata": {},
   "outputs": [],
   "source": []
  }
 ],
 "metadata": {
  "kernelspec": {
   "display_name": "Python 3 (ipykernel)",
   "language": "python",
   "name": "python3"
  },
  "language_info": {
   "codemirror_mode": {
    "name": "ipython",
    "version": 3
   },
   "file_extension": ".py",
   "mimetype": "text/x-python",
   "name": "python",
   "nbconvert_exporter": "python",
   "pygments_lexer": "ipython3",
   "version": "3.10.8"
  }
 },
 "nbformat": 4,
 "nbformat_minor": 5
}
